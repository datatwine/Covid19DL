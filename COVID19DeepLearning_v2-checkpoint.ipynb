{
 "cells": [
  {
   "cell_type": "code",
   "execution_count": 5,
   "id": "a2ad5d7a",
   "metadata": {},
   "outputs": [
    {
     "name": "stdout",
     "output_type": "stream",
     "text": [
      "Imported Successfully!\n"
     ]
    }
   ],
   "source": [
    "from keras.preprocessing import image\n",
    "from keras.layers import *\n",
    "from keras.models import * \n",
    "print('Imported Successfully!')"
   ]
  },
  {
   "cell_type": "code",
   "execution_count": 6,
   "id": "6cf45075",
   "metadata": {},
   "outputs": [
    {
     "name": "stdout",
     "output_type": "stream",
     "text": [
      "Model: \"sequential\"\n",
      "_________________________________________________________________\n",
      " Layer (type)                Output Shape              Param #   \n",
      "=================================================================\n",
      " conv2d (Conv2D)             (None, 222, 222, 32)      896       \n",
      "                                                                 \n",
      " conv2d_1 (Conv2D)           (None, 220, 220, 64)      18496     \n",
      "                                                                 \n",
      " max_pooling2d (MaxPooling2D  (None, 110, 110, 64)     0         \n",
      " )                                                               \n",
      "                                                                 \n",
      " dropout (Dropout)           (None, 110, 110, 64)      0         \n",
      "                                                                 \n",
      " conv2d_2 (Conv2D)           (None, 108, 108, 128)     73856     \n",
      "                                                                 \n",
      " max_pooling2d_1 (MaxPooling  (None, 54, 54, 128)      0         \n",
      " 2D)                                                             \n",
      "                                                                 \n",
      " dropout_1 (Dropout)         (None, 54, 54, 128)       0         \n",
      "                                                                 \n",
      " flatten (Flatten)           (None, 373248)            0         \n",
      "                                                                 \n",
      " dense (Dense)               (None, 64)                23887936  \n",
      "                                                                 \n",
      " dropout_2 (Dropout)         (None, 64)                0         \n",
      "                                                                 \n",
      " dense_1 (Dense)             (None, 1)                 65        \n",
      "                                                                 \n",
      "=================================================================\n",
      "Total params: 23,981,249\n",
      "Trainable params: 23,981,249\n",
      "Non-trainable params: 0\n",
      "_________________________________________________________________\n"
     ]
    }
   ],
   "source": [
    "model = Sequential()\n",
    "#Since the input is images first layer is a convolutional one\n",
    "#32 is the number of filters I chose after experimentation \n",
    "#(3,3) filter size gives reduced parameters for our model\n",
    "model.add(Conv2D(32, kernel_size=(3,3), activation=\"relu\",input_shape=(224,224,3)))\n",
    "model.add(Conv2D(64, kernel_size=(3,3), activation=\"relu\"))\n",
    "model.add(MaxPooling2D(pool_size=(2,2)))\n",
    "#Adding a dropout layer to avoid overfitting \n",
    "model.add(Dropout(0.25))\n",
    "#Repeating above steps below to make a deeper network\n",
    "model.add(Conv2D(128, kernel_size=(3,3), activation=\"relu\"))\n",
    "model.add(MaxPooling2D(pool_size=(2,2)))\n",
    "model.add(Dropout(0.25))\n",
    "model.add(Flatten())\n",
    "#Below is a dense fully connected layer with 64 neurons \n",
    "model.add(Dense(64, activation = \"relu\"))\n",
    "model.add(Dropout(0.5))\n",
    "model.add(Dense(1, activation=\"sigmoid\"))\n",
    "\n",
    "model.compile(loss=\"binary_crossentropy\", optimizer=\"adam\",metrics = [\"accuracy\"])\n",
    "model.summary()"
   ]
  },
  {
   "cell_type": "code",
   "execution_count": 7,
   "id": "3593c3d5",
   "metadata": {},
   "outputs": [
    {
     "name": "stdout",
     "output_type": "stream",
     "text": [
      "Created the Data Generator Objects.\n"
     ]
    }
   ],
   "source": [
    "#ImageDataGnereator will generate batches of tensor image data with real time data augmentation. Prevents ocerfitting as dataset is small \n",
    "#Bascially to generate variations of images to help model classify images irrespective of brightness, view angle etc \n",
    "train_datagen = image.ImageDataGenerator(rescale=1./255, shear_range=0.2, zoom_range=0.2, horizontal_flip=True)\n",
    "test_datagen = image.ImageDataGenerator(rescale = 1./255)\n",
    "\n",
    "print('Created the Data Generator Objects.')"
   ]
  },
  {
   "cell_type": "code",
   "execution_count": 8,
   "id": "ff41a342",
   "metadata": {},
   "outputs": [
    {
     "name": "stdout",
     "output_type": "stream",
     "text": [
      "Found 224 images belonging to 2 classes.\n",
      "Found 60 images belonging to 2 classes.\n"
     ]
    }
   ],
   "source": [
    "#Loading the dataset \n",
    "train_generator = train_datagen.flow_from_directory(r'C:\\Users\\91974\\Documents\\Datasets\\COVID-19\\CovidDataset\\Train',target_size=(224,224),batch_size=32, class_mode=\"binary\")\n",
    "val_generator = test_datagen.flow_from_directory(r'C:\\Users\\91974\\Documents\\Datasets\\COVID-19\\CovidDataset\\Val',target_size=(224,224),batch_size=32, class_mode=\"binary\")"
   ]
  },
  {
   "cell_type": "code",
   "execution_count": 9,
   "id": "a0269f7d",
   "metadata": {},
   "outputs": [
    {
     "name": "stdout",
     "output_type": "stream",
     "text": [
      "Epoch 1/6\n",
      "7/7 [==============================] - 45s 6s/step - loss: 2.5355 - accuracy: 0.6071 - val_loss: 0.6835 - val_accuracy: 0.5000\n",
      "Epoch 2/6\n",
      "7/7 [==============================] - 38s 5s/step - loss: 0.6506 - accuracy: 0.6339 - val_loss: 0.5331 - val_accuracy: 0.9333\n",
      "Epoch 3/6\n",
      "7/7 [==============================] - 37s 5s/step - loss: 0.4457 - accuracy: 0.8170 - val_loss: 0.3286 - val_accuracy: 0.9333\n",
      "Epoch 4/6\n",
      "7/7 [==============================] - 36s 5s/step - loss: 0.3746 - accuracy: 0.8348 - val_loss: 0.3135 - val_accuracy: 0.9500\n",
      "Epoch 5/6\n",
      "7/7 [==============================] - 37s 5s/step - loss: 0.2118 - accuracy: 0.8973 - val_loss: 0.1107 - val_accuracy: 0.9833\n",
      "Epoch 6/6\n",
      "7/7 [==============================] - 41s 6s/step - loss: 0.1752 - accuracy: 0.9375 - val_loss: 0.0816 - val_accuracy: 0.9833\n"
     ]
    }
   ],
   "source": [
    "#Accuracy of 98.33 percent achieved \n",
    "hist = model.fit(train_generator, epochs = 6, validation_data=val_generator, validation_steps=2)"
   ]
  }
 ],
 "metadata": {
  "kernelspec": {
   "display_name": "Python 3 (ipykernel)",
   "language": "python",
   "name": "python3"
  },
  "language_info": {
   "codemirror_mode": {
    "name": "ipython",
    "version": 3
   },
   "file_extension": ".py",
   "mimetype": "text/x-python",
   "name": "python",
   "nbconvert_exporter": "python",
   "pygments_lexer": "ipython3",
   "version": "3.9.7"
  }
 },
 "nbformat": 4,
 "nbformat_minor": 5
}
